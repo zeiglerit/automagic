{
 "cells": [
  {
   "cell_type": "code",
   "execution_count": null,
   "id": "10f3222c",
   "metadata": {},
   "outputs": [],
   "source": [
    "from flask import Flask, request\n",
    "from transformers import pipeline\n",
    "\n",
    "app = Flask(__name__)\n",
    "llm = pipeline(\"text-generation\", model=\"gpt2\")  # Replace with your fine-tuned model\n",
    "\n",
    "@app.route(\"/generate\", methods=[\"POST\"])\n",
    "def generate():\n",
    "    prompt = request.json.get(\"prompt\", \"\")\n",
    "    result = llm(prompt, max_length=200)\n",
    "    return {\"response\": result[0][\"generated_text\"]}\n",
    "\n",
    "if __name__ == \"__main__\":\n",
    "    app.run(host=\"0.0.0.0\", port=9080)"
   ]
  }
 ],
 "metadata": {
  "language_info": {
   "name": "python"
  }
 },
 "nbformat": 4,
 "nbformat_minor": 5
}
